{
 "cells": [
  {
   "cell_type": "code",
   "execution_count": 2,
   "id": "efdf945c",
   "metadata": {},
   "outputs": [],
   "source": [
    "import pandas as pd\n",
    "import numpy as np\n",
    "from sklearn.feature_extraction.text import CountVectorizer, TfidfVectorizer\n",
    "from sklearn.model_selection import train_test_split\n",
    "from sklearn.metrics import classification_report, accuracy_score\n",
    "from sklearn.linear_model import LogisticRegression\n",
    "from sklearn.naive_bayes import MultinomialNB\n",
    "from sklearn.svm import SVC\n",
    "from sklearn.decomposition import PCA\n",
    "from imblearn.over_sampling import SMOTE\n",
    "from keras.models import Sequential\n",
    "from keras.layers import Dense, Dropout\n",
    "from tensorflow.keras.callbacks import EarlyStopping"
   ]
  },
  {
   "cell_type": "code",
   "execution_count": 3,
   "id": "d42d7357",
   "metadata": {},
   "outputs": [],
   "source": [
    "# Load data into a pandas DataFrame\n",
    "data = pd.read_csv('combined_data.csv')\n",
    "data = data.dropna()\n",
    "\n",
    "# Separate the feature (textual data) and target (binary labels) columns\n",
    "X = data['text']\n",
    "y = data['isHate']"
   ]
  },
  {
   "cell_type": "code",
   "execution_count": 4,
   "id": "0281f4a5",
   "metadata": {},
   "outputs": [],
   "source": [
    "# Split the data into training and testing sets\n",
    "X_train, X_test, y_train, y_test = train_test_split(X, y, test_size=0.2, random_state=42)"
   ]
  },
  {
   "cell_type": "code",
   "execution_count": 5,
   "id": "781eae65",
   "metadata": {},
   "outputs": [],
   "source": [
    "# Vectorize the textual data using TF-IDF\n",
    "tfidf = TfidfVectorizer(stop_words='english')\n",
    "X_train_tfidf = tfidf.fit_transform(X_train)\n",
    "X_test_tfidf = tfidf.transform(X_test)"
   ]
  },
  {
   "cell_type": "code",
   "execution_count": 6,
   "id": "55f2ab4f",
   "metadata": {},
   "outputs": [],
   "source": [
    "# Oversample the texts class\n",
    "smote = SMOTE(random_state=42)\n",
    "X_train_tfidf_resampled, y_train_resampled = smote.fit_resample(X_train_tfidf, y_train)"
   ]
  },
  {
   "cell_type": "code",
   "execution_count": 7,
   "id": "2c003cc0",
   "metadata": {},
   "outputs": [
    {
     "data": {
      "text/plain": [
       "LogisticRegression()"
      ]
     },
     "execution_count": 7,
     "metadata": {},
     "output_type": "execute_result"
    }
   ],
   "source": [
    "# Train Logistic Regression\n",
    "lr_model = LogisticRegression()\n",
    "lr_model.fit(X_train_tfidf_resampled, y_train_resampled)"
   ]
  },
  {
   "cell_type": "code",
   "execution_count": 8,
   "id": "4867da68",
   "metadata": {},
   "outputs": [
    {
     "data": {
      "text/plain": [
       "MultinomialNB()"
      ]
     },
     "execution_count": 8,
     "metadata": {},
     "output_type": "execute_result"
    }
   ],
   "source": [
    "# Train Naive Bayes\n",
    "nb_model = MultinomialNB()\n",
    "nb_model.fit(X_train_tfidf_resampled, y_train_resampled)"
   ]
  },
  {
   "cell_type": "code",
   "execution_count": 9,
   "id": "8833e6cf",
   "metadata": {},
   "outputs": [
    {
     "data": {
      "text/plain": [
       "SVC(kernel='linear')"
      ]
     },
     "execution_count": 9,
     "metadata": {},
     "output_type": "execute_result"
    }
   ],
   "source": [
    "# Train Support Vector Machine\n",
    "svm_model = SVC(kernel='linear', C=1.0)\n",
    "svm_model.fit(X_train_tfidf_resampled, y_train_resampled)"
   ]
  },
  {
   "cell_type": "code",
   "execution_count": 10,
   "id": "7bd7fac1",
   "metadata": {},
   "outputs": [],
   "source": [
    "X_train_tfidf_resampled = X_train_tfidf_resampled.toarray()"
   ]
  },
  {
   "cell_type": "code",
   "execution_count": 11,
   "id": "5efb943d",
   "metadata": {},
   "outputs": [],
   "source": [
    "# Simple Neural Network architecture\n",
    "nn_model = Sequential()\n",
    "nn_model.add(Dense(64, input_shape=(X_train_tfidf_resampled.shape[1],), activation='relu'))\n",
    "nn_model.add(Dropout(0.5)) \n",
    "nn_model.add(Dense(32, activation='relu'))\n",
    "nn_model.add(Dropout(0.5)) \n",
    "nn_model.add(Dense(1, activation='sigmoid'))"
   ]
  },
  {
   "cell_type": "code",
   "execution_count": 12,
   "id": "201a675c",
   "metadata": {},
   "outputs": [],
   "source": [
    "# Compile the model\n",
    "nn_model.compile(optimizer=\"adam\", loss='binary_crossentropy', metrics=['accuracy'])"
   ]
  },
  {
   "cell_type": "code",
   "execution_count": 13,
   "id": "81cc606c",
   "metadata": {},
   "outputs": [],
   "source": [
    "es = EarlyStopping(patience=50, restore_best_weights=True, monitor=\"loss\")"
   ]
  },
  {
   "cell_type": "code",
   "execution_count": 14,
   "id": "8b80cad5",
   "metadata": {},
   "outputs": [
    {
     "name": "stdout",
     "output_type": "stream",
     "text": [
      "Epoch 1/10\n",
      "1197/1197 [==============================] - 51s 18ms/step - loss: 0.4137 - accuracy: 0.8067\n",
      "Epoch 2/10\n",
      "1197/1197 [==============================] - 24s 20ms/step - loss: 0.0870 - accuracy: 0.9728\n",
      "Epoch 3/10\n",
      "1197/1197 [==============================] - 13s 11ms/step - loss: 0.0483 - accuracy: 0.9859\n",
      "Epoch 4/10\n",
      "1197/1197 [==============================] - 11s 9ms/step - loss: 0.0354 - accuracy: 0.9900\n",
      "Epoch 5/10\n",
      "1197/1197 [==============================] - 11s 9ms/step - loss: 0.0288 - accuracy: 0.9918\n",
      "Epoch 6/10\n",
      "1197/1197 [==============================] - 11s 9ms/step - loss: 0.0225 - accuracy: 0.9939\n",
      "Epoch 7/10\n",
      "1197/1197 [==============================] - 11s 10ms/step - loss: 0.0196 - accuracy: 0.9948\n",
      "Epoch 8/10\n",
      "1197/1197 [==============================] - 11s 9ms/step - loss: 0.0189 - accuracy: 0.9946\n",
      "Epoch 9/10\n",
      "1197/1197 [==============================] - 11s 9ms/step - loss: 0.0135 - accuracy: 0.9961\n",
      "Epoch 10/10\n",
      "1197/1197 [==============================] - 12s 10ms/step - loss: 0.0136 - accuracy: 0.9960\n"
     ]
    },
    {
     "data": {
      "text/plain": [
       "<keras.callbacks.History at 0x7ffbf6cb5d60>"
      ]
     },
     "execution_count": 14,
     "metadata": {},
     "output_type": "execute_result"
    }
   ],
   "source": [
    "# Train the model\n",
    "nn_model.fit(X_train_tfidf_resampled, y_train_resampled, epochs=10, batch_size=32, verbose=1, callbacks=[es])"
   ]
  },
  {
   "cell_type": "code",
   "execution_count": 15,
   "id": "2f1e8b49",
   "metadata": {},
   "outputs": [
    {
     "name": "stderr",
     "output_type": "stream",
     "text": [
      "/Users/student/opt/anaconda3/lib/python3.8/site-packages/keras/engine/sequential.py:450: UserWarning: `model.predict_classes()` is deprecated and will be removed after 2021-01-01. Please use instead:* `np.argmax(model.predict(x), axis=-1)`,   if your model does multi-class classification   (e.g. if it uses a `softmax` last-layer activation).* `(model.predict(x) > 0.5).astype(\"int32\")`,   if your model does binary classification   (e.g. if it uses a `sigmoid` last-layer activation).\n",
      "  warnings.warn('`model.predict_classes()` is deprecated and '\n"
     ]
    }
   ],
   "source": [
    "# Make predictions on the testing set\n",
    "lr_pred = lr_model.predict(X_test_tfidf)\n",
    "nb_pred = nb_model.predict(X_test_tfidf)\n",
    "svm_pred = svm_model.predict(X_test_tfidf)\n",
    "nn_pred = nn_model.predict_classes(X_test_tfidf)"
   ]
  },
  {
   "cell_type": "code",
   "execution_count": 16,
   "id": "d566967e",
   "metadata": {
    "scrolled": false
   },
   "outputs": [
    {
     "name": "stdout",
     "output_type": "stream",
     "text": [
      "Tf-Idf Results\n",
      "\n",
      "Logistic Regression:\n",
      "              precision    recall  f1-score   support\n",
      "\n",
      "           0       0.97      0.89      0.93      4763\n",
      "           1       0.32      0.61      0.42       390\n",
      "\n",
      "    accuracy                           0.87      5153\n",
      "   macro avg       0.64      0.75      0.68      5153\n",
      "weighted avg       0.92      0.87      0.89      5153\n",
      "\n",
      "Accuracy score: 0.8734717640209587\n",
      "\n",
      "Naive Bayes:\n",
      "              precision    recall  f1-score   support\n",
      "\n",
      "           0       0.97      0.85      0.91      4763\n",
      "           1       0.27      0.65      0.38       390\n",
      "\n",
      "    accuracy                           0.84      5153\n",
      "   macro avg       0.62      0.75      0.64      5153\n",
      "weighted avg       0.91      0.84      0.87      5153\n",
      "\n",
      "Accuracy score: 0.8379584707937124\n",
      "\n",
      "Support Vector Machine:\n",
      "              precision    recall  f1-score   support\n",
      "\n",
      "           0       0.96      0.90      0.93      4763\n",
      "           1       0.30      0.52      0.38       390\n",
      "\n",
      "    accuracy                           0.87      5153\n",
      "   macro avg       0.63      0.71      0.65      5153\n",
      "weighted avg       0.91      0.87      0.89      5153\n",
      "\n",
      "Accuracy score: 0.8695905297884727\n",
      "\n",
      "Neural Network:\n",
      "              precision    recall  f1-score   support\n",
      "\n",
      "           0       0.94      0.96      0.95      4763\n",
      "           1       0.34      0.24      0.28       390\n",
      "\n",
      "    accuracy                           0.91      5153\n",
      "   macro avg       0.64      0.60      0.62      5153\n",
      "weighted avg       0.89      0.91      0.90      5153\n",
      "\n",
      "Accuracy score: 0.9080147486900835\n"
     ]
    }
   ],
   "source": [
    "# Print the classification report and accuracy score for each model\n",
    "print(\"Tf-Idf Results\")\n",
    "print()\n",
    "\n",
    "print('Logistic Regression:')\n",
    "print(classification_report(y_test, lr_pred))\n",
    "print('Accuracy score:', accuracy_score(y_test, lr_pred))\n",
    "print()\n",
    "\n",
    "\n",
    "print('Naive Bayes:')\n",
    "print(classification_report(y_test, nb_pred))\n",
    "print('Accuracy score:', accuracy_score(y_test, nb_pred))\n",
    "print()\n",
    "\n",
    "\n",
    "print('Support Vector Machine:')\n",
    "print(classification_report(y_test, svm_pred))\n",
    "print('Accuracy score:', accuracy_score(y_test, svm_pred))\n",
    "print()\n",
    "\n",
    "print('Neural Network:')\n",
    "print(classification_report(y_test, nn_pred))\n",
    "print('Accuracy score:', accuracy_score(y_test, nn_pred))"
   ]
  },
  {
   "cell_type": "code",
   "execution_count": null,
   "id": "6f13a341",
   "metadata": {},
   "outputs": [],
   "source": []
  },
  {
   "cell_type": "code",
   "execution_count": null,
   "id": "5103f790",
   "metadata": {},
   "outputs": [],
   "source": []
  }
 ],
 "metadata": {
  "kernelspec": {
   "display_name": "Python 3",
   "language": "python",
   "name": "python3"
  },
  "language_info": {
   "codemirror_mode": {
    "name": "ipython",
    "version": 3
   },
   "file_extension": ".py",
   "mimetype": "text/x-python",
   "name": "python",
   "nbconvert_exporter": "python",
   "pygments_lexer": "ipython3",
   "version": "3.8.8"
  }
 },
 "nbformat": 4,
 "nbformat_minor": 5
}
